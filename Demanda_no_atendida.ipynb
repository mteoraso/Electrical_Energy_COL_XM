{
  "nbformat": 4,
  "nbformat_minor": 0,
  "metadata": {
    "colab": {
      "provenance": [],
      "authorship_tag": "ABX9TyOeBcJG+3+zHzYgFFNEQbuA",
      "include_colab_link": true
    },
    "kernelspec": {
      "name": "python3",
      "display_name": "Python 3"
    },
    "language_info": {
      "name": "python"
    }
  },
  "cells": [
    {
      "cell_type": "markdown",
      "metadata": {
        "id": "view-in-github",
        "colab_type": "text"
      },
      "source": [
        "<a href=\"https://colab.research.google.com/github/mteoraso/Energia_electrica_COL_XM/blob/EDA/Demanda_no_atendida.ipynb\" target=\"_parent\"><img src=\"https://colab.research.google.com/assets/colab-badge.svg\" alt=\"Open In Colab\"/></a>"
      ]
    },
    {
      "cell_type": "code",
      "execution_count": 1,
      "metadata": {
        "colab": {
          "base_uri": "https://localhost:8080/",
          "height": 940
        },
        "collapsed": true,
        "id": "sbl6zjXi2lud",
        "outputId": "14904dfb-ba3b-4df0-bd9e-fc5f8273e59e"
      },
      "outputs": [
        {
          "output_type": "stream",
          "name": "stdout",
          "text": [
            "Collecting pydataxm\n",
            "  Downloading pydataxm-0.3.11.tar.gz (16 kB)\n",
            "  Preparing metadata (setup.py) ... \u001b[?25l\u001b[?25hdone\n",
            "Requirement already satisfied: requests in /usr/local/lib/python3.11/dist-packages (from pydataxm) (2.32.3)\n",
            "Requirement already satisfied: pandas in /usr/local/lib/python3.11/dist-packages (from pydataxm) (2.2.2)\n",
            "Collecting datetime (from pydataxm)\n",
            "  Downloading DateTime-5.5-py3-none-any.whl.metadata (33 kB)\n",
            "Requirement already satisfied: aiohttp in /usr/local/lib/python3.11/dist-packages (from pydataxm) (3.11.13)\n",
            "Collecting asyncio (from pydataxm)\n",
            "  Downloading asyncio-3.4.3-py3-none-any.whl.metadata (1.7 kB)\n",
            "Requirement already satisfied: nest_asyncio in /usr/local/lib/python3.11/dist-packages (from pydataxm) (1.6.0)\n",
            "Requirement already satisfied: aiohappyeyeballs>=2.3.0 in /usr/local/lib/python3.11/dist-packages (from aiohttp->pydataxm) (2.4.6)\n",
            "Requirement already satisfied: aiosignal>=1.1.2 in /usr/local/lib/python3.11/dist-packages (from aiohttp->pydataxm) (1.3.2)\n",
            "Requirement already satisfied: attrs>=17.3.0 in /usr/local/lib/python3.11/dist-packages (from aiohttp->pydataxm) (25.1.0)\n",
            "Requirement already satisfied: frozenlist>=1.1.1 in /usr/local/lib/python3.11/dist-packages (from aiohttp->pydataxm) (1.5.0)\n",
            "Requirement already satisfied: multidict<7.0,>=4.5 in /usr/local/lib/python3.11/dist-packages (from aiohttp->pydataxm) (6.1.0)\n",
            "Requirement already satisfied: propcache>=0.2.0 in /usr/local/lib/python3.11/dist-packages (from aiohttp->pydataxm) (0.3.0)\n",
            "Requirement already satisfied: yarl<2.0,>=1.17.0 in /usr/local/lib/python3.11/dist-packages (from aiohttp->pydataxm) (1.18.3)\n",
            "Collecting zope.interface (from datetime->pydataxm)\n",
            "  Downloading zope.interface-7.2-cp311-cp311-manylinux_2_5_x86_64.manylinux1_x86_64.manylinux_2_17_x86_64.manylinux2014_x86_64.whl.metadata (44 kB)\n",
            "\u001b[2K     \u001b[90m━━━━━━━━━━━━━━━━━━━━━━━━━━━━━━━━━━━━━━━━\u001b[0m \u001b[32m44.4/44.4 kB\u001b[0m \u001b[31m1.4 MB/s\u001b[0m eta \u001b[36m0:00:00\u001b[0m\n",
            "\u001b[?25hRequirement already satisfied: pytz in /usr/local/lib/python3.11/dist-packages (from datetime->pydataxm) (2025.1)\n",
            "Requirement already satisfied: numpy>=1.23.2 in /usr/local/lib/python3.11/dist-packages (from pandas->pydataxm) (1.26.4)\n",
            "Requirement already satisfied: python-dateutil>=2.8.2 in /usr/local/lib/python3.11/dist-packages (from pandas->pydataxm) (2.8.2)\n",
            "Requirement already satisfied: tzdata>=2022.7 in /usr/local/lib/python3.11/dist-packages (from pandas->pydataxm) (2025.1)\n",
            "Requirement already satisfied: charset-normalizer<4,>=2 in /usr/local/lib/python3.11/dist-packages (from requests->pydataxm) (3.4.1)\n",
            "Requirement already satisfied: idna<4,>=2.5 in /usr/local/lib/python3.11/dist-packages (from requests->pydataxm) (3.10)\n",
            "Requirement already satisfied: urllib3<3,>=1.21.1 in /usr/local/lib/python3.11/dist-packages (from requests->pydataxm) (2.3.0)\n",
            "Requirement already satisfied: certifi>=2017.4.17 in /usr/local/lib/python3.11/dist-packages (from requests->pydataxm) (2025.1.31)\n",
            "Requirement already satisfied: six>=1.5 in /usr/local/lib/python3.11/dist-packages (from python-dateutil>=2.8.2->pandas->pydataxm) (1.17.0)\n",
            "Requirement already satisfied: setuptools in /usr/local/lib/python3.11/dist-packages (from zope.interface->datetime->pydataxm) (75.1.0)\n",
            "Downloading asyncio-3.4.3-py3-none-any.whl (101 kB)\n",
            "\u001b[2K   \u001b[90m━━━━━━━━━━━━━━━━━━━━━━━━━━━━━━━━━━━━━━━━\u001b[0m \u001b[32m101.8/101.8 kB\u001b[0m \u001b[31m3.5 MB/s\u001b[0m eta \u001b[36m0:00:00\u001b[0m\n",
            "\u001b[?25hDownloading DateTime-5.5-py3-none-any.whl (52 kB)\n",
            "\u001b[2K   \u001b[90m━━━━━━━━━━━━━━━━━━━━━━━━━━━━━━━━━━━━━━━━\u001b[0m \u001b[32m52.6/52.6 kB\u001b[0m \u001b[31m2.7 MB/s\u001b[0m eta \u001b[36m0:00:00\u001b[0m\n",
            "\u001b[?25hDownloading zope.interface-7.2-cp311-cp311-manylinux_2_5_x86_64.manylinux1_x86_64.manylinux_2_17_x86_64.manylinux2014_x86_64.whl (259 kB)\n",
            "\u001b[2K   \u001b[90m━━━━━━━━━━━━━━━━━━━━━━━━━━━━━━━━━━━━━━━━\u001b[0m \u001b[32m259.8/259.8 kB\u001b[0m \u001b[31m7.9 MB/s\u001b[0m eta \u001b[36m0:00:00\u001b[0m\n",
            "\u001b[?25hBuilding wheels for collected packages: pydataxm\n",
            "  Building wheel for pydataxm (setup.py) ... \u001b[?25l\u001b[?25hdone\n",
            "  Created wheel for pydataxm: filename=pydataxm-0.3.11-py3-none-any.whl size=10731 sha256=10db07527af2f61fca288cd0c21cb4392544453b845dc72afc09dacc7423c9b5\n",
            "  Stored in directory: /root/.cache/pip/wheels/7d/70/75/6da4301bf3c954a6c22b2e7bc7d5bda39a42cd5d5ea7e0cf18\n",
            "Successfully built pydataxm\n",
            "Installing collected packages: asyncio, zope.interface, datetime, pydataxm\n",
            "Successfully installed asyncio-3.4.3 datetime-5.5 pydataxm-0.3.11 zope.interface-7.2\n"
          ]
        },
        {
          "output_type": "display_data",
          "data": {
            "application/vnd.colab-display-data+json": {
              "pip_warning": {
                "packages": [
                  "asyncio"
                ]
              },
              "id": "3c86a10c591e4e6f8fd162a9f45e5d4b"
            }
          },
          "metadata": {}
        }
      ],
      "source": [
        "!pip install pydataxm"
      ]
    },
    {
      "cell_type": "code",
      "source": [
        "# Importación\n",
        "from pydataxm.pydatasimem import ReadSIMEM, CatalogSIMEM\n",
        "\n",
        "# Crear una instancia de catalogo con el tipo\n",
        "catalogo_conjuntos = CatalogSIMEM('Datasets')"
      ],
      "metadata": {
        "id": "UaMVLygo3I3M"
      },
      "execution_count": 3,
      "outputs": []
    },
    {
      "cell_type": "code",
      "source": [
        "# Crear una instancia de ReadSIMEM\n",
        "dataset_id = '3C77AF'\n",
        "fecha_inicio = '2020-01-01'\n",
        "fecha_fin = '2024-04-30'\n",
        "generacion = ReadSIMEM(dataset_id, fecha_inicio, fecha_fin)\n",
        "\n",
        "# Recuperar datos\n",
        "data = generacion.main(filter=False)\n",
        "print(data)"
      ],
      "metadata": {
        "colab": {
          "base_uri": "https://localhost:8080/"
        },
        "collapsed": true,
        "id": "QOLXzqIa3VKj",
        "outputId": "ff2a9f09-106c-4559-8b13-3ccca3e7f9c3"
      },
      "execution_count": 4,
      "outputs": [
        {
          "output_type": "stream",
          "name": "stdout",
          "text": [
            "****************************************************************************************************\n",
            "Initializing object\n",
            "The object has been initialized with the dataset: \"Eventos de Demanda No Atendida\"\n",
            "Start of asynchronous data extraction\n",
            "End of data extracting process\n",
            "****************************************************************************************************\n",
            "     IdentificadorSuceso      FechaHoraInicio         FechaHoraFin  \\\n",
            "0             S000017905  2020-01-31 13:04:00  2020-01-31 19:59:00   \n",
            "1             S000017904  2020-01-29 09:43:00  2020-01-29 09:53:00   \n",
            "2             S000017903  2020-01-27 14:24:00  2020-01-27 16:31:00   \n",
            "3             S000017902  2020-01-26 05:16:00  2020-01-26 06:34:00   \n",
            "4             S000017901  2020-01-26 07:24:00  2020-01-26 13:15:00   \n",
            "...                  ...                  ...                  ...   \n",
            "3585          S000022218  2024-04-01 00:00:00  2024-04-01 00:38:00   \n",
            "3586          S000022220  2024-04-01 15:41:00  2024-04-01 15:44:00   \n",
            "3587          S000022217  2024-03-31 23:08:00  2024-03-31 23:59:00   \n",
            "3588          S000022327  2024-04-30 15:17:00  2024-04-30 15:30:00   \n",
            "3589          S000022328  2024-04-30 14:57:00  2024-04-30 18:32:00   \n",
            "\n",
            "       OrigenEvento  EnergiaNoAtendida  \\\n",
            "0     No programada           151140.0   \n",
            "1     No programada             4630.0   \n",
            "2     No programada            14610.0   \n",
            "3        Programada            26650.0   \n",
            "4        Programada            45100.0   \n",
            "...             ...                ...   \n",
            "3585  No programada             1080.0   \n",
            "3586  No programada             1100.0   \n",
            "3587  No programada             1440.0   \n",
            "3588  No programada             2030.0   \n",
            "3589  No programada             4030.0   \n",
            "\n",
            "                                      DescripcionEvento CodigoSubAreaOperativa  \n",
            "0     Demanda no atendida por disparo del activo SAN...                Are0025  \n",
            "1     Demanda no atendida por trabajos en la consign...                Are0029  \n",
            "2     Demanda no atendida por sobrecarga del activo ...                Are0018  \n",
            "3     Demanda no atendida por trabajos en la consign...                Are0016  \n",
            "4     Demanda no atendida por trabajos en la consign...                Are0025  \n",
            "...                                                 ...                    ...  \n",
            "3585  Continua demanda no atendida por disparo del a...                Are0019  \n",
            "3586  Demanda no atendida por disparo del activo BL1...                Are0015  \n",
            "3587  Demanda no atendida por disparo del activo BL1...                Are0019  \n",
            "3588  Demanda no atendida por disparo del activo LA ...                Are0015  \n",
            "3589  Demanda no atendida por disparo del activo ESM...                Are0022  \n",
            "\n",
            "[3590 rows x 7 columns]\n"
          ]
        }
      ]
    },
    {
      "cell_type": "code",
      "source": [
        "data"
      ],
      "metadata": {
        "colab": {
          "base_uri": "https://localhost:8080/",
          "height": 614
        },
        "id": "rHOdYdPU4f3n",
        "outputId": "8964ed27-2f7b-4be3-c42f-43cf277bc687"
      },
      "execution_count": 7,
      "outputs": [
        {
          "output_type": "execute_result",
          "data": {
            "text/plain": [
              "     IdentificadorSuceso      FechaHoraInicio         FechaHoraFin  \\\n",
              "0             S000017905  2020-01-31 13:04:00  2020-01-31 19:59:00   \n",
              "1             S000017904  2020-01-29 09:43:00  2020-01-29 09:53:00   \n",
              "2             S000017903  2020-01-27 14:24:00  2020-01-27 16:31:00   \n",
              "3             S000017902  2020-01-26 05:16:00  2020-01-26 06:34:00   \n",
              "4             S000017901  2020-01-26 07:24:00  2020-01-26 13:15:00   \n",
              "...                  ...                  ...                  ...   \n",
              "3585          S000022218  2024-04-01 00:00:00  2024-04-01 00:38:00   \n",
              "3586          S000022220  2024-04-01 15:41:00  2024-04-01 15:44:00   \n",
              "3587          S000022217  2024-03-31 23:08:00  2024-03-31 23:59:00   \n",
              "3588          S000022327  2024-04-30 15:17:00  2024-04-30 15:30:00   \n",
              "3589          S000022328  2024-04-30 14:57:00  2024-04-30 18:32:00   \n",
              "\n",
              "       OrigenEvento  EnergiaNoAtendida  \\\n",
              "0     No programada           151140.0   \n",
              "1     No programada             4630.0   \n",
              "2     No programada            14610.0   \n",
              "3        Programada            26650.0   \n",
              "4        Programada            45100.0   \n",
              "...             ...                ...   \n",
              "3585  No programada             1080.0   \n",
              "3586  No programada             1100.0   \n",
              "3587  No programada             1440.0   \n",
              "3588  No programada             2030.0   \n",
              "3589  No programada             4030.0   \n",
              "\n",
              "                                      DescripcionEvento CodigoSubAreaOperativa  \n",
              "0     Demanda no atendida por disparo del activo SAN...                Are0025  \n",
              "1     Demanda no atendida por trabajos en la consign...                Are0029  \n",
              "2     Demanda no atendida por sobrecarga del activo ...                Are0018  \n",
              "3     Demanda no atendida por trabajos en la consign...                Are0016  \n",
              "4     Demanda no atendida por trabajos en la consign...                Are0025  \n",
              "...                                                 ...                    ...  \n",
              "3585  Continua demanda no atendida por disparo del a...                Are0019  \n",
              "3586  Demanda no atendida por disparo del activo BL1...                Are0015  \n",
              "3587  Demanda no atendida por disparo del activo BL1...                Are0019  \n",
              "3588  Demanda no atendida por disparo del activo LA ...                Are0015  \n",
              "3589  Demanda no atendida por disparo del activo ESM...                Are0022  \n",
              "\n",
              "[3590 rows x 7 columns]"
            ],
            "text/html": [
              "\n",
              "  <div id=\"df-05d35484-1517-41f8-bda7-5d9b620d7e4b\" class=\"colab-df-container\">\n",
              "    <div>\n",
              "<style scoped>\n",
              "    .dataframe tbody tr th:only-of-type {\n",
              "        vertical-align: middle;\n",
              "    }\n",
              "\n",
              "    .dataframe tbody tr th {\n",
              "        vertical-align: top;\n",
              "    }\n",
              "\n",
              "    .dataframe thead th {\n",
              "        text-align: right;\n",
              "    }\n",
              "</style>\n",
              "<table border=\"1\" class=\"dataframe\">\n",
              "  <thead>\n",
              "    <tr style=\"text-align: right;\">\n",
              "      <th></th>\n",
              "      <th>IdentificadorSuceso</th>\n",
              "      <th>FechaHoraInicio</th>\n",
              "      <th>FechaHoraFin</th>\n",
              "      <th>OrigenEvento</th>\n",
              "      <th>EnergiaNoAtendida</th>\n",
              "      <th>DescripcionEvento</th>\n",
              "      <th>CodigoSubAreaOperativa</th>\n",
              "    </tr>\n",
              "  </thead>\n",
              "  <tbody>\n",
              "    <tr>\n",
              "      <th>0</th>\n",
              "      <td>S000017905</td>\n",
              "      <td>2020-01-31 13:04:00</td>\n",
              "      <td>2020-01-31 19:59:00</td>\n",
              "      <td>No programada</td>\n",
              "      <td>151140.0</td>\n",
              "      <td>Demanda no atendida por disparo del activo SAN...</td>\n",
              "      <td>Are0025</td>\n",
              "    </tr>\n",
              "    <tr>\n",
              "      <th>1</th>\n",
              "      <td>S000017904</td>\n",
              "      <td>2020-01-29 09:43:00</td>\n",
              "      <td>2020-01-29 09:53:00</td>\n",
              "      <td>No programada</td>\n",
              "      <td>4630.0</td>\n",
              "      <td>Demanda no atendida por trabajos en la consign...</td>\n",
              "      <td>Are0029</td>\n",
              "    </tr>\n",
              "    <tr>\n",
              "      <th>2</th>\n",
              "      <td>S000017903</td>\n",
              "      <td>2020-01-27 14:24:00</td>\n",
              "      <td>2020-01-27 16:31:00</td>\n",
              "      <td>No programada</td>\n",
              "      <td>14610.0</td>\n",
              "      <td>Demanda no atendida por sobrecarga del activo ...</td>\n",
              "      <td>Are0018</td>\n",
              "    </tr>\n",
              "    <tr>\n",
              "      <th>3</th>\n",
              "      <td>S000017902</td>\n",
              "      <td>2020-01-26 05:16:00</td>\n",
              "      <td>2020-01-26 06:34:00</td>\n",
              "      <td>Programada</td>\n",
              "      <td>26650.0</td>\n",
              "      <td>Demanda no atendida por trabajos en la consign...</td>\n",
              "      <td>Are0016</td>\n",
              "    </tr>\n",
              "    <tr>\n",
              "      <th>4</th>\n",
              "      <td>S000017901</td>\n",
              "      <td>2020-01-26 07:24:00</td>\n",
              "      <td>2020-01-26 13:15:00</td>\n",
              "      <td>Programada</td>\n",
              "      <td>45100.0</td>\n",
              "      <td>Demanda no atendida por trabajos en la consign...</td>\n",
              "      <td>Are0025</td>\n",
              "    </tr>\n",
              "    <tr>\n",
              "      <th>...</th>\n",
              "      <td>...</td>\n",
              "      <td>...</td>\n",
              "      <td>...</td>\n",
              "      <td>...</td>\n",
              "      <td>...</td>\n",
              "      <td>...</td>\n",
              "      <td>...</td>\n",
              "    </tr>\n",
              "    <tr>\n",
              "      <th>3585</th>\n",
              "      <td>S000022218</td>\n",
              "      <td>2024-04-01 00:00:00</td>\n",
              "      <td>2024-04-01 00:38:00</td>\n",
              "      <td>No programada</td>\n",
              "      <td>1080.0</td>\n",
              "      <td>Continua demanda no atendida por disparo del a...</td>\n",
              "      <td>Are0019</td>\n",
              "    </tr>\n",
              "    <tr>\n",
              "      <th>3586</th>\n",
              "      <td>S000022220</td>\n",
              "      <td>2024-04-01 15:41:00</td>\n",
              "      <td>2024-04-01 15:44:00</td>\n",
              "      <td>No programada</td>\n",
              "      <td>1100.0</td>\n",
              "      <td>Demanda no atendida por disparo del activo BL1...</td>\n",
              "      <td>Are0015</td>\n",
              "    </tr>\n",
              "    <tr>\n",
              "      <th>3587</th>\n",
              "      <td>S000022217</td>\n",
              "      <td>2024-03-31 23:08:00</td>\n",
              "      <td>2024-03-31 23:59:00</td>\n",
              "      <td>No programada</td>\n",
              "      <td>1440.0</td>\n",
              "      <td>Demanda no atendida por disparo del activo BL1...</td>\n",
              "      <td>Are0019</td>\n",
              "    </tr>\n",
              "    <tr>\n",
              "      <th>3588</th>\n",
              "      <td>S000022327</td>\n",
              "      <td>2024-04-30 15:17:00</td>\n",
              "      <td>2024-04-30 15:30:00</td>\n",
              "      <td>No programada</td>\n",
              "      <td>2030.0</td>\n",
              "      <td>Demanda no atendida por disparo del activo LA ...</td>\n",
              "      <td>Are0015</td>\n",
              "    </tr>\n",
              "    <tr>\n",
              "      <th>3589</th>\n",
              "      <td>S000022328</td>\n",
              "      <td>2024-04-30 14:57:00</td>\n",
              "      <td>2024-04-30 18:32:00</td>\n",
              "      <td>No programada</td>\n",
              "      <td>4030.0</td>\n",
              "      <td>Demanda no atendida por disparo del activo ESM...</td>\n",
              "      <td>Are0022</td>\n",
              "    </tr>\n",
              "  </tbody>\n",
              "</table>\n",
              "<p>3590 rows × 7 columns</p>\n",
              "</div>\n",
              "    <div class=\"colab-df-buttons\">\n",
              "\n",
              "  <div class=\"colab-df-container\">\n",
              "    <button class=\"colab-df-convert\" onclick=\"convertToInteractive('df-05d35484-1517-41f8-bda7-5d9b620d7e4b')\"\n",
              "            title=\"Convert this dataframe to an interactive table.\"\n",
              "            style=\"display:none;\">\n",
              "\n",
              "  <svg xmlns=\"http://www.w3.org/2000/svg\" height=\"24px\" viewBox=\"0 -960 960 960\">\n",
              "    <path d=\"M120-120v-720h720v720H120Zm60-500h600v-160H180v160Zm220 220h160v-160H400v160Zm0 220h160v-160H400v160ZM180-400h160v-160H180v160Zm440 0h160v-160H620v160ZM180-180h160v-160H180v160Zm440 0h160v-160H620v160Z\"/>\n",
              "  </svg>\n",
              "    </button>\n",
              "\n",
              "  <style>\n",
              "    .colab-df-container {\n",
              "      display:flex;\n",
              "      gap: 12px;\n",
              "    }\n",
              "\n",
              "    .colab-df-convert {\n",
              "      background-color: #E8F0FE;\n",
              "      border: none;\n",
              "      border-radius: 50%;\n",
              "      cursor: pointer;\n",
              "      display: none;\n",
              "      fill: #1967D2;\n",
              "      height: 32px;\n",
              "      padding: 0 0 0 0;\n",
              "      width: 32px;\n",
              "    }\n",
              "\n",
              "    .colab-df-convert:hover {\n",
              "      background-color: #E2EBFA;\n",
              "      box-shadow: 0px 1px 2px rgba(60, 64, 67, 0.3), 0px 1px 3px 1px rgba(60, 64, 67, 0.15);\n",
              "      fill: #174EA6;\n",
              "    }\n",
              "\n",
              "    .colab-df-buttons div {\n",
              "      margin-bottom: 4px;\n",
              "    }\n",
              "\n",
              "    [theme=dark] .colab-df-convert {\n",
              "      background-color: #3B4455;\n",
              "      fill: #D2E3FC;\n",
              "    }\n",
              "\n",
              "    [theme=dark] .colab-df-convert:hover {\n",
              "      background-color: #434B5C;\n",
              "      box-shadow: 0px 1px 3px 1px rgba(0, 0, 0, 0.15);\n",
              "      filter: drop-shadow(0px 1px 2px rgba(0, 0, 0, 0.3));\n",
              "      fill: #FFFFFF;\n",
              "    }\n",
              "  </style>\n",
              "\n",
              "    <script>\n",
              "      const buttonEl =\n",
              "        document.querySelector('#df-05d35484-1517-41f8-bda7-5d9b620d7e4b button.colab-df-convert');\n",
              "      buttonEl.style.display =\n",
              "        google.colab.kernel.accessAllowed ? 'block' : 'none';\n",
              "\n",
              "      async function convertToInteractive(key) {\n",
              "        const element = document.querySelector('#df-05d35484-1517-41f8-bda7-5d9b620d7e4b');\n",
              "        const dataTable =\n",
              "          await google.colab.kernel.invokeFunction('convertToInteractive',\n",
              "                                                    [key], {});\n",
              "        if (!dataTable) return;\n",
              "\n",
              "        const docLinkHtml = 'Like what you see? Visit the ' +\n",
              "          '<a target=\"_blank\" href=https://colab.research.google.com/notebooks/data_table.ipynb>data table notebook</a>'\n",
              "          + ' to learn more about interactive tables.';\n",
              "        element.innerHTML = '';\n",
              "        dataTable['output_type'] = 'display_data';\n",
              "        await google.colab.output.renderOutput(dataTable, element);\n",
              "        const docLink = document.createElement('div');\n",
              "        docLink.innerHTML = docLinkHtml;\n",
              "        element.appendChild(docLink);\n",
              "      }\n",
              "    </script>\n",
              "  </div>\n",
              "\n",
              "\n",
              "<div id=\"df-72f66b8c-8d09-4081-80c7-4df1bc931c27\">\n",
              "  <button class=\"colab-df-quickchart\" onclick=\"quickchart('df-72f66b8c-8d09-4081-80c7-4df1bc931c27')\"\n",
              "            title=\"Suggest charts\"\n",
              "            style=\"display:none;\">\n",
              "\n",
              "<svg xmlns=\"http://www.w3.org/2000/svg\" height=\"24px\"viewBox=\"0 0 24 24\"\n",
              "     width=\"24px\">\n",
              "    <g>\n",
              "        <path d=\"M19 3H5c-1.1 0-2 .9-2 2v14c0 1.1.9 2 2 2h14c1.1 0 2-.9 2-2V5c0-1.1-.9-2-2-2zM9 17H7v-7h2v7zm4 0h-2V7h2v10zm4 0h-2v-4h2v4z\"/>\n",
              "    </g>\n",
              "</svg>\n",
              "  </button>\n",
              "\n",
              "<style>\n",
              "  .colab-df-quickchart {\n",
              "      --bg-color: #E8F0FE;\n",
              "      --fill-color: #1967D2;\n",
              "      --hover-bg-color: #E2EBFA;\n",
              "      --hover-fill-color: #174EA6;\n",
              "      --disabled-fill-color: #AAA;\n",
              "      --disabled-bg-color: #DDD;\n",
              "  }\n",
              "\n",
              "  [theme=dark] .colab-df-quickchart {\n",
              "      --bg-color: #3B4455;\n",
              "      --fill-color: #D2E3FC;\n",
              "      --hover-bg-color: #434B5C;\n",
              "      --hover-fill-color: #FFFFFF;\n",
              "      --disabled-bg-color: #3B4455;\n",
              "      --disabled-fill-color: #666;\n",
              "  }\n",
              "\n",
              "  .colab-df-quickchart {\n",
              "    background-color: var(--bg-color);\n",
              "    border: none;\n",
              "    border-radius: 50%;\n",
              "    cursor: pointer;\n",
              "    display: none;\n",
              "    fill: var(--fill-color);\n",
              "    height: 32px;\n",
              "    padding: 0;\n",
              "    width: 32px;\n",
              "  }\n",
              "\n",
              "  .colab-df-quickchart:hover {\n",
              "    background-color: var(--hover-bg-color);\n",
              "    box-shadow: 0 1px 2px rgba(60, 64, 67, 0.3), 0 1px 3px 1px rgba(60, 64, 67, 0.15);\n",
              "    fill: var(--button-hover-fill-color);\n",
              "  }\n",
              "\n",
              "  .colab-df-quickchart-complete:disabled,\n",
              "  .colab-df-quickchart-complete:disabled:hover {\n",
              "    background-color: var(--disabled-bg-color);\n",
              "    fill: var(--disabled-fill-color);\n",
              "    box-shadow: none;\n",
              "  }\n",
              "\n",
              "  .colab-df-spinner {\n",
              "    border: 2px solid var(--fill-color);\n",
              "    border-color: transparent;\n",
              "    border-bottom-color: var(--fill-color);\n",
              "    animation:\n",
              "      spin 1s steps(1) infinite;\n",
              "  }\n",
              "\n",
              "  @keyframes spin {\n",
              "    0% {\n",
              "      border-color: transparent;\n",
              "      border-bottom-color: var(--fill-color);\n",
              "      border-left-color: var(--fill-color);\n",
              "    }\n",
              "    20% {\n",
              "      border-color: transparent;\n",
              "      border-left-color: var(--fill-color);\n",
              "      border-top-color: var(--fill-color);\n",
              "    }\n",
              "    30% {\n",
              "      border-color: transparent;\n",
              "      border-left-color: var(--fill-color);\n",
              "      border-top-color: var(--fill-color);\n",
              "      border-right-color: var(--fill-color);\n",
              "    }\n",
              "    40% {\n",
              "      border-color: transparent;\n",
              "      border-right-color: var(--fill-color);\n",
              "      border-top-color: var(--fill-color);\n",
              "    }\n",
              "    60% {\n",
              "      border-color: transparent;\n",
              "      border-right-color: var(--fill-color);\n",
              "    }\n",
              "    80% {\n",
              "      border-color: transparent;\n",
              "      border-right-color: var(--fill-color);\n",
              "      border-bottom-color: var(--fill-color);\n",
              "    }\n",
              "    90% {\n",
              "      border-color: transparent;\n",
              "      border-bottom-color: var(--fill-color);\n",
              "    }\n",
              "  }\n",
              "</style>\n",
              "\n",
              "  <script>\n",
              "    async function quickchart(key) {\n",
              "      const quickchartButtonEl =\n",
              "        document.querySelector('#' + key + ' button');\n",
              "      quickchartButtonEl.disabled = true;  // To prevent multiple clicks.\n",
              "      quickchartButtonEl.classList.add('colab-df-spinner');\n",
              "      try {\n",
              "        const charts = await google.colab.kernel.invokeFunction(\n",
              "            'suggestCharts', [key], {});\n",
              "      } catch (error) {\n",
              "        console.error('Error during call to suggestCharts:', error);\n",
              "      }\n",
              "      quickchartButtonEl.classList.remove('colab-df-spinner');\n",
              "      quickchartButtonEl.classList.add('colab-df-quickchart-complete');\n",
              "    }\n",
              "    (() => {\n",
              "      let quickchartButtonEl =\n",
              "        document.querySelector('#df-72f66b8c-8d09-4081-80c7-4df1bc931c27 button');\n",
              "      quickchartButtonEl.style.display =\n",
              "        google.colab.kernel.accessAllowed ? 'block' : 'none';\n",
              "    })();\n",
              "  </script>\n",
              "</div>\n",
              "\n",
              "  <div id=\"id_5deab1a9-16b8-4994-bce1-435a64b25595\">\n",
              "    <style>\n",
              "      .colab-df-generate {\n",
              "        background-color: #E8F0FE;\n",
              "        border: none;\n",
              "        border-radius: 50%;\n",
              "        cursor: pointer;\n",
              "        display: none;\n",
              "        fill: #1967D2;\n",
              "        height: 32px;\n",
              "        padding: 0 0 0 0;\n",
              "        width: 32px;\n",
              "      }\n",
              "\n",
              "      .colab-df-generate:hover {\n",
              "        background-color: #E2EBFA;\n",
              "        box-shadow: 0px 1px 2px rgba(60, 64, 67, 0.3), 0px 1px 3px 1px rgba(60, 64, 67, 0.15);\n",
              "        fill: #174EA6;\n",
              "      }\n",
              "\n",
              "      [theme=dark] .colab-df-generate {\n",
              "        background-color: #3B4455;\n",
              "        fill: #D2E3FC;\n",
              "      }\n",
              "\n",
              "      [theme=dark] .colab-df-generate:hover {\n",
              "        background-color: #434B5C;\n",
              "        box-shadow: 0px 1px 3px 1px rgba(0, 0, 0, 0.15);\n",
              "        filter: drop-shadow(0px 1px 2px rgba(0, 0, 0, 0.3));\n",
              "        fill: #FFFFFF;\n",
              "      }\n",
              "    </style>\n",
              "    <button class=\"colab-df-generate\" onclick=\"generateWithVariable('data')\"\n",
              "            title=\"Generate code using this dataframe.\"\n",
              "            style=\"display:none;\">\n",
              "\n",
              "  <svg xmlns=\"http://www.w3.org/2000/svg\" height=\"24px\"viewBox=\"0 0 24 24\"\n",
              "       width=\"24px\">\n",
              "    <path d=\"M7,19H8.4L18.45,9,17,7.55,7,17.6ZM5,21V16.75L18.45,3.32a2,2,0,0,1,2.83,0l1.4,1.43a1.91,1.91,0,0,1,.58,1.4,1.91,1.91,0,0,1-.58,1.4L9.25,21ZM18.45,9,17,7.55Zm-12,3A5.31,5.31,0,0,0,4.9,8.1,5.31,5.31,0,0,0,1,6.5,5.31,5.31,0,0,0,4.9,4.9,5.31,5.31,0,0,0,6.5,1,5.31,5.31,0,0,0,8.1,4.9,5.31,5.31,0,0,0,12,6.5,5.46,5.46,0,0,0,6.5,12Z\"/>\n",
              "  </svg>\n",
              "    </button>\n",
              "    <script>\n",
              "      (() => {\n",
              "      const buttonEl =\n",
              "        document.querySelector('#id_5deab1a9-16b8-4994-bce1-435a64b25595 button.colab-df-generate');\n",
              "      buttonEl.style.display =\n",
              "        google.colab.kernel.accessAllowed ? 'block' : 'none';\n",
              "\n",
              "      buttonEl.onclick = () => {\n",
              "        google.colab.notebook.generateWithVariable('data');\n",
              "      }\n",
              "      })();\n",
              "    </script>\n",
              "  </div>\n",
              "\n",
              "    </div>\n",
              "  </div>\n"
            ],
            "application/vnd.google.colaboratory.intrinsic+json": {
              "type": "dataframe",
              "variable_name": "data",
              "summary": "{\n  \"name\": \"data\",\n  \"rows\": 3590,\n  \"fields\": [\n    {\n      \"column\": \"IdentificadorSuceso\",\n      \"properties\": {\n        \"dtype\": \"string\",\n        \"num_unique_values\": 3589,\n        \"samples\": [\n          \"S000021380\",\n          \"S000018207\",\n          \"S000020281\"\n        ],\n        \"semantic_type\": \"\",\n        \"description\": \"\"\n      }\n    },\n    {\n      \"column\": \"FechaHoraInicio\",\n      \"properties\": {\n        \"dtype\": \"object\",\n        \"num_unique_values\": 3542,\n        \"samples\": [\n          \"2021-12-15 05:31:00\",\n          \"2020-06-30 00:00:00\",\n          \"2023-05-05 17:45:00\"\n        ],\n        \"semantic_type\": \"\",\n        \"description\": \"\"\n      }\n    },\n    {\n      \"column\": \"FechaHoraFin\",\n      \"properties\": {\n        \"dtype\": \"object\",\n        \"num_unique_values\": 3528,\n        \"samples\": [\n          \"2020-06-10 10:55:00\",\n          \"2023-09-26 23:14:00\",\n          \"2023-08-07 12:30:00\"\n        ],\n        \"semantic_type\": \"\",\n        \"description\": \"\"\n      }\n    },\n    {\n      \"column\": \"OrigenEvento\",\n      \"properties\": {\n        \"dtype\": \"category\",\n        \"num_unique_values\": 2,\n        \"samples\": [\n          \"Programada\",\n          \"No programada\"\n        ],\n        \"semantic_type\": \"\",\n        \"description\": \"\"\n      }\n    },\n    {\n      \"column\": \"EnergiaNoAtendida\",\n      \"properties\": {\n        \"dtype\": \"number\",\n        \"std\": 128857.40915221772,\n        \"min\": 70.0,\n        \"max\": 2608110.0,\n        \"num_unique_values\": 2398,\n        \"samples\": [\n          54220.0,\n          7930.0\n        ],\n        \"semantic_type\": \"\",\n        \"description\": \"\"\n      }\n    },\n    {\n      \"column\": \"DescripcionEvento\",\n      \"properties\": {\n        \"dtype\": \"string\",\n        \"num_unique_values\": 2802,\n        \"samples\": [\n          \" Demanda no atendida por trabajos en la consignaci\\u00f3n C0178415 del activo BT TIBU 24 30/40 MVA 115 KV.\",\n          \"Demanda no atendida por disparo del activo FACATATIVA-VILLETA 115 kV dejando sin tensi\\u00f3n la subestaci\\u00f3n radial VILLETA 115 kV.\"\n        ],\n        \"semantic_type\": \"\",\n        \"description\": \"\"\n      }\n    },\n    {\n      \"column\": \"CodigoSubAreaOperativa\",\n      \"properties\": {\n        \"dtype\": \"category\",\n        \"num_unique_values\": 19,\n        \"samples\": [\n          \"Are0025\",\n          \"Are0131\"\n        ],\n        \"semantic_type\": \"\",\n        \"description\": \"\"\n      }\n    }\n  ]\n}"
            }
          },
          "metadata": {},
          "execution_count": 7
        }
      ]
    },
    {
      "cell_type": "code",
      "source": [
        "data.isnull().sum()"
      ],
      "metadata": {
        "colab": {
          "base_uri": "https://localhost:8080/",
          "height": 303
        },
        "id": "HUNL3hir7-6f",
        "outputId": "18eb2d11-56b0-4bbb-f2e5-02b7e21d0d04"
      },
      "execution_count": 31,
      "outputs": [
        {
          "output_type": "execute_result",
          "data": {
            "text/plain": [
              "IdentificadorSuceso       0\n",
              "FechaHoraInicio           0\n",
              "FechaHoraFin              0\n",
              "OrigenEvento              0\n",
              "EnergiaNoAtendida         0\n",
              "DescripcionEvento         0\n",
              "CodigoSubAreaOperativa    0\n",
              "dtype: int64"
            ],
            "text/html": [
              "<div>\n",
              "<style scoped>\n",
              "    .dataframe tbody tr th:only-of-type {\n",
              "        vertical-align: middle;\n",
              "    }\n",
              "\n",
              "    .dataframe tbody tr th {\n",
              "        vertical-align: top;\n",
              "    }\n",
              "\n",
              "    .dataframe thead th {\n",
              "        text-align: right;\n",
              "    }\n",
              "</style>\n",
              "<table border=\"1\" class=\"dataframe\">\n",
              "  <thead>\n",
              "    <tr style=\"text-align: right;\">\n",
              "      <th></th>\n",
              "      <th>0</th>\n",
              "    </tr>\n",
              "  </thead>\n",
              "  <tbody>\n",
              "    <tr>\n",
              "      <th>IdentificadorSuceso</th>\n",
              "      <td>0</td>\n",
              "    </tr>\n",
              "    <tr>\n",
              "      <th>FechaHoraInicio</th>\n",
              "      <td>0</td>\n",
              "    </tr>\n",
              "    <tr>\n",
              "      <th>FechaHoraFin</th>\n",
              "      <td>0</td>\n",
              "    </tr>\n",
              "    <tr>\n",
              "      <th>OrigenEvento</th>\n",
              "      <td>0</td>\n",
              "    </tr>\n",
              "    <tr>\n",
              "      <th>EnergiaNoAtendida</th>\n",
              "      <td>0</td>\n",
              "    </tr>\n",
              "    <tr>\n",
              "      <th>DescripcionEvento</th>\n",
              "      <td>0</td>\n",
              "    </tr>\n",
              "    <tr>\n",
              "      <th>CodigoSubAreaOperativa</th>\n",
              "      <td>0</td>\n",
              "    </tr>\n",
              "  </tbody>\n",
              "</table>\n",
              "</div><br><label><b>dtype:</b> int64</label>"
            ]
          },
          "metadata": {},
          "execution_count": 31
        }
      ]
    },
    {
      "cell_type": "code",
      "source": [
        "data = data.astype({\"FechaHoraInicio\": \"datetime64[ns]\"})\n",
        "data = data.astype({\"FechaHoraFin\": \"datetime64[ns]\"})\n",
        "data.info()"
      ],
      "metadata": {
        "colab": {
          "base_uri": "https://localhost:8080/"
        },
        "id": "gnz7Q3D28MX_",
        "outputId": "b756f968-3903-4661-a602-39cf0b159580"
      },
      "execution_count": 35,
      "outputs": [
        {
          "output_type": "stream",
          "name": "stdout",
          "text": [
            "<class 'pandas.core.frame.DataFrame'>\n",
            "RangeIndex: 3590 entries, 0 to 3589\n",
            "Data columns (total 7 columns):\n",
            " #   Column                  Non-Null Count  Dtype         \n",
            "---  ------                  --------------  -----         \n",
            " 0   IdentificadorSuceso     3590 non-null   object        \n",
            " 1   FechaHoraInicio         3590 non-null   datetime64[ns]\n",
            " 2   FechaHoraFin            3590 non-null   datetime64[ns]\n",
            " 3   OrigenEvento            3590 non-null   object        \n",
            " 4   EnergiaNoAtendida       3590 non-null   float64       \n",
            " 5   DescripcionEvento       3590 non-null   object        \n",
            " 6   CodigoSubAreaOperativa  3590 non-null   object        \n",
            "dtypes: datetime64[ns](2), float64(1), object(4)\n",
            "memory usage: 196.5+ KB\n"
          ]
        }
      ]
    },
    {
      "cell_type": "code",
      "source": [
        "import pandas as pd\n",
        "\n",
        "descripciones_eventos = pd.unique(data['DescripcionEvento'])\n",
        "descripciones_eventos"
      ],
      "metadata": {
        "colab": {
          "base_uri": "https://localhost:8080/"
        },
        "id": "M4EbwFz46HTv",
        "outputId": "5a8b6922-bb2b-4c51-f808-b4a6f939cd78"
      },
      "execution_count": 21,
      "outputs": [
        {
          "output_type": "execute_result",
          "data": {
            "text/plain": [
              "array(['Demanda no atendida por disparo del activo SAN JUAN 2 50 MVA 110/34.5/13.8 KV transformador de carga de la S/E radial San Juan 110 kV.',\n",
              "       'Demanda no atendida por trabajos en la consignación C0176405 del activo BL1 BELEN(CUCUTA) A LA INSULA 115 kV. Se materializa Riesgo de Disparo sobre la BL1 BELEN(CUCUTA) A SEVILLA 115 kV.',\n",
              "       'Demanda no atendida por sobrecarga del activo CARTAGENA - ZARAGOCILLA 1 66 KV al quedar radial la subestación ZARAGOCILLA 66 kV por disparo del activo TERNERA - ZARAGOCILLA 1 66 kV.',\n",
              "       ...,\n",
              "       'Demanda no atendida por disparo del activo BL1 SAN JERONIMO A OCCIDENTE 110 KV. Agente reporta recierre exitoso en activo BL1 OCCIDENTE A SAN JERONIMO 110 KV',\n",
              "       'Demanda no atendida por disparo del activo BL1 GUAPI A OLAYA HERRERA 115 KV dejando sin tension la subestación radial OLAYA HERRERA 115 KV.',\n",
              "       'Demanda no atendida por disparo del activo ESMERALDA - VITERBO 1 115 kV dejando sin tensión la subestación radial VITERBO 115 kV.'],\n",
              "      dtype=object)"
            ]
          },
          "metadata": {},
          "execution_count": 21
        }
      ]
    },
    {
      "cell_type": "code",
      "source": [
        "len(descripciones_eventos)"
      ],
      "metadata": {
        "colab": {
          "base_uri": "https://localhost:8080/"
        },
        "id": "q1GVdWhU6WV5",
        "outputId": "a1a41dcf-710d-41c0-cacb-429c31bcc255"
      },
      "execution_count": 22,
      "outputs": [
        {
          "output_type": "execute_result",
          "data": {
            "text/plain": [
              "2802"
            ]
          },
          "metadata": {},
          "execution_count": 22
        }
      ]
    },
    {
      "cell_type": "code",
      "source": [
        "data['EnergiaNoAtendida'].sum()"
      ],
      "metadata": {
        "colab": {
          "base_uri": "https://localhost:8080/"
        },
        "id": "dCHZyjUG4gRp",
        "outputId": "d27fa686-2f58-4108-9604-8c1b09a7adea"
      },
      "execution_count": 13,
      "outputs": [
        {
          "output_type": "execute_result",
          "data": {
            "text/plain": [
              "230814000.0"
            ]
          },
          "metadata": {},
          "execution_count": 13
        }
      ]
    },
    {
      "cell_type": "code",
      "source": [
        "data.groupby(['OrigenEvento']).size()"
      ],
      "metadata": {
        "colab": {
          "base_uri": "https://localhost:8080/",
          "height": 178
        },
        "id": "gy-1DVcM5PqJ",
        "outputId": "bcb4b6ef-710d-4e43-fd73-256cd9612b72"
      },
      "execution_count": 18,
      "outputs": [
        {
          "output_type": "execute_result",
          "data": {
            "text/plain": [
              "OrigenEvento\n",
              "No programada    2626\n",
              "Programada        964\n",
              "dtype: int64"
            ],
            "text/html": [
              "<div>\n",
              "<style scoped>\n",
              "    .dataframe tbody tr th:only-of-type {\n",
              "        vertical-align: middle;\n",
              "    }\n",
              "\n",
              "    .dataframe tbody tr th {\n",
              "        vertical-align: top;\n",
              "    }\n",
              "\n",
              "    .dataframe thead th {\n",
              "        text-align: right;\n",
              "    }\n",
              "</style>\n",
              "<table border=\"1\" class=\"dataframe\">\n",
              "  <thead>\n",
              "    <tr style=\"text-align: right;\">\n",
              "      <th></th>\n",
              "      <th>0</th>\n",
              "    </tr>\n",
              "    <tr>\n",
              "      <th>OrigenEvento</th>\n",
              "      <th></th>\n",
              "    </tr>\n",
              "  </thead>\n",
              "  <tbody>\n",
              "    <tr>\n",
              "      <th>No programada</th>\n",
              "      <td>2626</td>\n",
              "    </tr>\n",
              "    <tr>\n",
              "      <th>Programada</th>\n",
              "      <td>964</td>\n",
              "    </tr>\n",
              "  </tbody>\n",
              "</table>\n",
              "</div><br><label><b>dtype:</b> int64</label>"
            ]
          },
          "metadata": {},
          "execution_count": 18
        }
      ]
    },
    {
      "cell_type": "code",
      "source": [
        "data.groupby('OrigenEvento')['EnergiaNoAtendida'].sum().round(20).sort_values(ascending=False)"
      ],
      "metadata": {
        "colab": {
          "base_uri": "https://localhost:8080/",
          "height": 178
        },
        "id": "r777P9_25hUe",
        "outputId": "07c33f0c-e4ba-495a-e959-887959e7c0e1"
      },
      "execution_count": 39,
      "outputs": [
        {
          "output_type": "execute_result",
          "data": {
            "text/plain": [
              "OrigenEvento\n",
              "Programada       1.424111e+08\n",
              "No programada    8.840288e+07\n",
              "Name: EnergiaNoAtendida, dtype: float64"
            ],
            "text/html": [
              "<div>\n",
              "<style scoped>\n",
              "    .dataframe tbody tr th:only-of-type {\n",
              "        vertical-align: middle;\n",
              "    }\n",
              "\n",
              "    .dataframe tbody tr th {\n",
              "        vertical-align: top;\n",
              "    }\n",
              "\n",
              "    .dataframe thead th {\n",
              "        text-align: right;\n",
              "    }\n",
              "</style>\n",
              "<table border=\"1\" class=\"dataframe\">\n",
              "  <thead>\n",
              "    <tr style=\"text-align: right;\">\n",
              "      <th></th>\n",
              "      <th>EnergiaNoAtendida</th>\n",
              "    </tr>\n",
              "    <tr>\n",
              "      <th>OrigenEvento</th>\n",
              "      <th></th>\n",
              "    </tr>\n",
              "  </thead>\n",
              "  <tbody>\n",
              "    <tr>\n",
              "      <th>Programada</th>\n",
              "      <td>1.424111e+08</td>\n",
              "    </tr>\n",
              "    <tr>\n",
              "      <th>No programada</th>\n",
              "      <td>8.840288e+07</td>\n",
              "    </tr>\n",
              "  </tbody>\n",
              "</table>\n",
              "</div><br><label><b>dtype:</b> float64</label>"
            ]
          },
          "metadata": {},
          "execution_count": 39
        }
      ]
    },
    {
      "cell_type": "code",
      "source": [
        "data.groupby('DescripcionEvento')['EnergiaNoAtendida'].sum().sort_values(ascending=False)"
      ],
      "metadata": {
        "colab": {
          "base_uri": "https://localhost:8080/",
          "height": 628
        },
        "id": "J7kkD9rk6lyp",
        "outputId": "10bc71dc-2304-4a63-a1fe-dd1dc89dde01"
      },
      "execution_count": 23,
      "outputs": [
        {
          "output_type": "execute_result",
          "data": {
            "text/plain": [
              "DescripcionEvento\n",
              "Se presenta DNA por evento en las subáreas Atlántico Bolívar y GCM pertenecientes al área Caribe. Debido a falla en el  CT de la fase A del activo BL2 SABANALARGA A FUNDACION 220 kV adicionalmente se disparan los extremos remotos asociados a los circuitos de la subestación SABANALARGA 220 kV.                                                                                                                                                                  6625350.00\n",
              "Continua demanda no atendida por trabajos en la consignación de emergencia C0196936 del activo SAMORE - TOLEDO 1 230 kV dejando sin tensión las subestaciones radiales SAMORE 230 kV BANADIA 230 kV y CAÑO LIMON 230 kV.                                                                                                                                                                                                                                               3802000.00\n",
              "Continua demanda no atendida por trabajos en la consignación de emergencia C0196936 del activo SAMORE - TOLEDO 1 230 kV dejando sin tensión las subestaciones radiales SAMORE 230 kV BANADIA 230 kV y CAÑO LIMON 230 kV.                                                                                                                                                                                                                                               2664050.00\n",
              "Continua demanda no atendida por evento en la S/E VALLEDUPAR 220 KV -110 KV-34.5 KV- 13.8 KV.                                                                                                                                                                                                                                                                                                                                                                          1887370.02\n",
              "Continúa demanda no atendida por disparo de los activos asociados a la barra CHINÚ 110 KV y el transformador CHINÚ 1 150 MVA 500/110/34.5 kV; dejando sin tensión las subestaciones: CHINÚ PLANTA 110 kV, SAN MARCOS (SUCRE) 110 kV, LA MOJANA 110 kV, CHINÚ PLANTA 110 kV, SINCÉ 110 kV, MAGANGUÉ 110 kV, MOMPOX 110 kV, BOSTON 110 kV, COVEÑAS 110 kV, SIERRA FLOR 110 kV, TOLUVIEJO 110 kV, EL CARMEN 110 kV, ZAMBRANO 66 kV, SAN JACINTO 66 kV y CALAMAR 66 kV.    1717050.00\n",
              "                                                                                                                                                                                                                                                                                                                                                                                                                                                                          ...    \n",
              "Demanda no atendida por disparo de los activos asociados a la subestación CONVENCION 115 kV dejando sin tensión las subestaciones temporalmente radiales CONVENCION 115 kV y TIBU 115 kV.                                                                                                                                                                                                                                                                                 1000.00\n",
              "Continúa demanda no atendida por disparo del activo BL1 EL PASO A EL BANCO 110 kV, dejando sin tensión la S/E radial EL BANCO 110 kV.                                                                                                                                                                                                                                                                                                                                     1000.00\n",
              "Continua demanda no atendida por criterios de confiabilidad de la subárea Bolivar.                                                                                                                                                                                                                                                                                                                                                                                        1000.00\n",
              "Demanda no atendida por disparo del activo BL1 MAGANGUÉ A MOMPOX 110 KV, dejando sin tensión la subestación radial MOMPOX 110 KV.                                                                                                                                                                                                                                                                                                                                         1000.00\n",
              "Demanda no atendida Demanda por instrucción del CND debido a bajas tensiones en la subestación EL BANCO 110 kV.                                                                                                                                                                                                                                                                                                                                                             70.00\n",
              "Name: EnergiaNoAtendida, Length: 2802, dtype: float64"
            ],
            "text/html": [
              "<div>\n",
              "<style scoped>\n",
              "    .dataframe tbody tr th:only-of-type {\n",
              "        vertical-align: middle;\n",
              "    }\n",
              "\n",
              "    .dataframe tbody tr th {\n",
              "        vertical-align: top;\n",
              "    }\n",
              "\n",
              "    .dataframe thead th {\n",
              "        text-align: right;\n",
              "    }\n",
              "</style>\n",
              "<table border=\"1\" class=\"dataframe\">\n",
              "  <thead>\n",
              "    <tr style=\"text-align: right;\">\n",
              "      <th></th>\n",
              "      <th>EnergiaNoAtendida</th>\n",
              "    </tr>\n",
              "    <tr>\n",
              "      <th>DescripcionEvento</th>\n",
              "      <th></th>\n",
              "    </tr>\n",
              "  </thead>\n",
              "  <tbody>\n",
              "    <tr>\n",
              "      <th>Se presenta DNA por evento en las subáreas Atlántico Bolívar y GCM pertenecientes al área Caribe. Debido a falla en el  CT de la fase A del activo BL2 SABANALARGA A FUNDACION 220 kV adicionalmente se disparan los extremos remotos asociados a los circuitos de la subestación SABANALARGA 220 kV.</th>\n",
              "      <td>6625350.00</td>\n",
              "    </tr>\n",
              "    <tr>\n",
              "      <th>Continua demanda no atendida por trabajos en la consignación de emergencia C0196936 del activo SAMORE - TOLEDO 1 230 kV dejando sin tensión las subestaciones radiales SAMORE 230 kV BANADIA 230 kV y CAÑO LIMON 230 kV.</th>\n",
              "      <td>3802000.00</td>\n",
              "    </tr>\n",
              "    <tr>\n",
              "      <th>Continua demanda no atendida por trabajos en la consignación de emergencia C0196936 del activo SAMORE - TOLEDO 1 230 kV dejando sin tensión las subestaciones radiales SAMORE 230 kV BANADIA 230 kV y CAÑO LIMON 230 kV.</th>\n",
              "      <td>2664050.00</td>\n",
              "    </tr>\n",
              "    <tr>\n",
              "      <th>Continua demanda no atendida por evento en la S/E VALLEDUPAR 220 KV -110 KV-34.5 KV- 13.8 KV.</th>\n",
              "      <td>1887370.02</td>\n",
              "    </tr>\n",
              "    <tr>\n",
              "      <th>Continúa demanda no atendida por disparo de los activos asociados a la barra CHINÚ 110 KV y el transformador CHINÚ 1 150 MVA 500/110/34.5 kV; dejando sin tensión las subestaciones: CHINÚ PLANTA 110 kV, SAN MARCOS (SUCRE) 110 kV, LA MOJANA 110 kV, CHINÚ PLANTA 110 kV, SINCÉ 110 kV, MAGANGUÉ 110 kV, MOMPOX 110 kV, BOSTON 110 kV, COVEÑAS 110 kV, SIERRA FLOR 110 kV, TOLUVIEJO 110 kV, EL CARMEN 110 kV, ZAMBRANO 66 kV, SAN JACINTO 66 kV y CALAMAR 66 kV.</th>\n",
              "      <td>1717050.00</td>\n",
              "    </tr>\n",
              "    <tr>\n",
              "      <th>...</th>\n",
              "      <td>...</td>\n",
              "    </tr>\n",
              "    <tr>\n",
              "      <th>Demanda no atendida por disparo de los activos asociados a la subestación CONVENCION 115 kV dejando sin tensión las subestaciones temporalmente radiales CONVENCION 115 kV y TIBU 115 kV.</th>\n",
              "      <td>1000.00</td>\n",
              "    </tr>\n",
              "    <tr>\n",
              "      <th>Continúa demanda no atendida por disparo del activo BL1 EL PASO A EL BANCO 110 kV, dejando sin tensión la S/E radial EL BANCO 110 kV.</th>\n",
              "      <td>1000.00</td>\n",
              "    </tr>\n",
              "    <tr>\n",
              "      <th>Continua demanda no atendida por criterios de confiabilidad de la subárea Bolivar.</th>\n",
              "      <td>1000.00</td>\n",
              "    </tr>\n",
              "    <tr>\n",
              "      <th>Demanda no atendida por disparo del activo BL1 MAGANGUÉ A MOMPOX 110 KV, dejando sin tensión la subestación radial MOMPOX 110 KV.</th>\n",
              "      <td>1000.00</td>\n",
              "    </tr>\n",
              "    <tr>\n",
              "      <th>Demanda no atendida Demanda por instrucción del CND debido a bajas tensiones en la subestación EL BANCO 110 kV.</th>\n",
              "      <td>70.00</td>\n",
              "    </tr>\n",
              "  </tbody>\n",
              "</table>\n",
              "<p>2802 rows × 1 columns</p>\n",
              "</div><br><label><b>dtype:</b> float64</label>"
            ]
          },
          "metadata": {},
          "execution_count": 23
        }
      ]
    },
    {
      "cell_type": "code",
      "source": [
        "data.groupby('CodigoSubAreaOperativa')['EnergiaNoAtendida'].sum().sort_values(ascending=False)"
      ],
      "metadata": {
        "colab": {
          "base_uri": "https://localhost:8080/",
          "height": 711
        },
        "id": "5UDYDR2Y4u33",
        "outputId": "8b0f88b7-fc7a-406f-ff60-d772ef52c55d"
      },
      "execution_count": 14,
      "outputs": [
        {
          "output_type": "execute_result",
          "data": {
            "text/plain": [
              "CodigoSubAreaOperativa\n",
              "Are0025    61339430.00\n",
              "Are0018    46415029.97\n",
              "Are0016    34914180.02\n",
              "Are0021    25062750.02\n",
              "Are0019    12860440.00\n",
              "Are0129    10426030.00\n",
              "Are0017     7099660.00\n",
              "Are0027     7099239.99\n",
              "Are0026     6678540.00\n",
              "Are0132     4208450.00\n",
              "Are0022     3140790.00\n",
              "Are0029     2353600.00\n",
              "Are0015     2188880.00\n",
              "Are0031     1883300.00\n",
              "Are0131     1658930.00\n",
              "Are0130     1344660.00\n",
              "Are0032     1226900.00\n",
              "Are0020      682320.00\n",
              "Are0116      230870.00\n",
              "Name: EnergiaNoAtendida, dtype: float64"
            ],
            "text/html": [
              "<div>\n",
              "<style scoped>\n",
              "    .dataframe tbody tr th:only-of-type {\n",
              "        vertical-align: middle;\n",
              "    }\n",
              "\n",
              "    .dataframe tbody tr th {\n",
              "        vertical-align: top;\n",
              "    }\n",
              "\n",
              "    .dataframe thead th {\n",
              "        text-align: right;\n",
              "    }\n",
              "</style>\n",
              "<table border=\"1\" class=\"dataframe\">\n",
              "  <thead>\n",
              "    <tr style=\"text-align: right;\">\n",
              "      <th></th>\n",
              "      <th>EnergiaNoAtendida</th>\n",
              "    </tr>\n",
              "    <tr>\n",
              "      <th>CodigoSubAreaOperativa</th>\n",
              "      <th></th>\n",
              "    </tr>\n",
              "  </thead>\n",
              "  <tbody>\n",
              "    <tr>\n",
              "      <th>Are0025</th>\n",
              "      <td>61339430.00</td>\n",
              "    </tr>\n",
              "    <tr>\n",
              "      <th>Are0018</th>\n",
              "      <td>46415029.97</td>\n",
              "    </tr>\n",
              "    <tr>\n",
              "      <th>Are0016</th>\n",
              "      <td>34914180.02</td>\n",
              "    </tr>\n",
              "    <tr>\n",
              "      <th>Are0021</th>\n",
              "      <td>25062750.02</td>\n",
              "    </tr>\n",
              "    <tr>\n",
              "      <th>Are0019</th>\n",
              "      <td>12860440.00</td>\n",
              "    </tr>\n",
              "    <tr>\n",
              "      <th>Are0129</th>\n",
              "      <td>10426030.00</td>\n",
              "    </tr>\n",
              "    <tr>\n",
              "      <th>Are0017</th>\n",
              "      <td>7099660.00</td>\n",
              "    </tr>\n",
              "    <tr>\n",
              "      <th>Are0027</th>\n",
              "      <td>7099239.99</td>\n",
              "    </tr>\n",
              "    <tr>\n",
              "      <th>Are0026</th>\n",
              "      <td>6678540.00</td>\n",
              "    </tr>\n",
              "    <tr>\n",
              "      <th>Are0132</th>\n",
              "      <td>4208450.00</td>\n",
              "    </tr>\n",
              "    <tr>\n",
              "      <th>Are0022</th>\n",
              "      <td>3140790.00</td>\n",
              "    </tr>\n",
              "    <tr>\n",
              "      <th>Are0029</th>\n",
              "      <td>2353600.00</td>\n",
              "    </tr>\n",
              "    <tr>\n",
              "      <th>Are0015</th>\n",
              "      <td>2188880.00</td>\n",
              "    </tr>\n",
              "    <tr>\n",
              "      <th>Are0031</th>\n",
              "      <td>1883300.00</td>\n",
              "    </tr>\n",
              "    <tr>\n",
              "      <th>Are0131</th>\n",
              "      <td>1658930.00</td>\n",
              "    </tr>\n",
              "    <tr>\n",
              "      <th>Are0130</th>\n",
              "      <td>1344660.00</td>\n",
              "    </tr>\n",
              "    <tr>\n",
              "      <th>Are0032</th>\n",
              "      <td>1226900.00</td>\n",
              "    </tr>\n",
              "    <tr>\n",
              "      <th>Are0020</th>\n",
              "      <td>682320.00</td>\n",
              "    </tr>\n",
              "    <tr>\n",
              "      <th>Are0116</th>\n",
              "      <td>230870.00</td>\n",
              "    </tr>\n",
              "  </tbody>\n",
              "</table>\n",
              "</div><br><label><b>dtype:</b> float64</label>"
            ]
          },
          "metadata": {},
          "execution_count": 14
        }
      ]
    },
    {
      "cell_type": "code",
      "source": [
        "import matplotlib.pyplot as plt\n",
        "import seaborn as sns\n",
        "\n",
        "plt.figure(figsize=(20,8))\n",
        "sns.lineplot(data=data, x=data['FechaHoraInicio'],y=data['EnergiaNoAtendida'],color='red',lw=2,)\n",
        "plt.ylabel(\"Energia no atendida\")\n",
        "plt.title(\"Serie de tiempo de energia no atendida\");"
      ],
      "metadata": {
        "colab": {
          "base_uri": "https://localhost:8080/",
          "height": 497
        },
        "id": "Djo0gAbj9Lkm",
        "outputId": "cf98df15-5703-4deb-eb0c-baf3cbf3b886"
      },
      "execution_count": 41,
      "outputs": [
        {
          "output_type": "display_data",
          "data": {
            "text/plain": [
              "<Figure size 2000x800 with 1 Axes>"
            ],
            "image/png": "[encoded data removed]"
          },
          "metadata": {}
        }
      ]
    },
    {
      "cell_type": "code",
      "source": [
        "plt.figure(figsize=(8,5))\n",
        "sns.boxplot(x=data['OrigenEvento'], y=data['EnergiaNoAtendida'], palette=\"pastel\")\n",
        "plt.title('Distribucion en origen de evento para energia no atendida', fontsize=14)\n",
        "plt.xlabel('Origen evento', fontsize=12)\n",
        "plt.ylabel('Energia no atendida', fontsize=12)\n",
        "plt.xticks(rotation=90)\n",
        "plt.show()"
      ],
      "metadata": {
        "colab": {
          "base_uri": "https://localhost:8080/",
          "height": 713
        },
        "id": "jhnHtxpm9jNt",
        "outputId": "8476b731-7c93-42a7-df7b-bdd481f72252"
      },
      "execution_count": 43,
      "outputs": [
        {
          "output_type": "stream",
          "name": "stderr",
          "text": [
            "<ipython-input-43-b9d962393e74>:2: FutureWarning: \n",
            "\n",
            "Passing `palette` without assigning `hue` is deprecated and will be removed in v0.14.0. Assign the `x` variable to `hue` and set `legend=False` for the same effect.\n",
            "\n",
            "  sns.boxplot(x=data['OrigenEvento'], y=data['EnergiaNoAtendida'], palette=\"pastel\")\n"
          ]
        },
        {
          "output_type": "display_data",
          "data": {
            "text/plain": [
              "<Figure size 800x500 with 1 Axes>"
            ],
            "image/png": "[encoded data removed]"
          },
          "metadata": {}
        }
      ]
    },
    {
      "cell_type": "code",
      "source": [
        "from statsmodels.graphics.tsaplots import plot_acf\n",
        "from statsmodels.tsa.stattools import adfuller\n",
        "\n",
        "plt.figure(figsize=(12, 6))\n",
        "plot_acf(data['FechaHoraInicio'], lags=10) # You can adjust the number of lags as needed\n",
        "plt.xlabel('Lag')\n",
        "plt.ylabel('Autocorrelation')\n",
        "plt.title('Autocorrelation Function (ACF) Plot')\n",
        "plt.show()"
      ],
      "metadata": {
        "colab": {
          "base_uri": "https://localhost:8080/",
          "height": 490
        },
        "id": "4mjRi5QD-lVW",
        "outputId": "0bcf6185-9e4d-4f0d-cf0f-21641f9be59b"
      },
      "execution_count": 45,
      "outputs": [
        {
          "output_type": "display_data",
          "data": {
            "text/plain": [
              "<Figure size 1200x600 with 0 Axes>"
            ]
          },
          "metadata": {}
        },
        {
          "output_type": "display_data",
          "data": {
            "text/plain": [
              "<Figure size 640x480 with 1 Axes>"
            ],
            "image/png": "[encoded data removed]"
          },
          "metadata": {}
        }
      ]
    },
    {
      "cell_type": "code",
      "source": [],
      "metadata": {
        "id": "Lfg_I9_6_j9G"
      },
      "execution_count": null,
      "outputs": []
    }
  ]
}